{
  "nbformat": 4,
  "nbformat_minor": 0,
  "metadata": {
    "colab": {
      "provenance": [],
      "authorship_tag": "ABX9TyOx7O/zXlVW+oiHvi9CiYKT",
      "include_colab_link": true
    },
    "kernelspec": {
      "name": "python3",
      "display_name": "Python 3"
    },
    "language_info": {
      "name": "python"
    }
  },
  "cells": [
    {
      "cell_type": "markdown",
      "metadata": {
        "id": "view-in-github",
        "colab_type": "text"
      },
      "source": [
        "<a href=\"https://colab.research.google.com/github/Kaffe-work/aoc_2024/blob/main/24d4.ipynb\" target=\"_parent\"><img src=\"https://colab.research.google.com/assets/colab-badge.svg\" alt=\"Open In Colab\"/></a>"
      ]
    },
    {
      "cell_type": "code",
      "execution_count": 116,
      "metadata": {
        "id": "9aTeCkWVxuSF"
      },
      "outputs": [],
      "source": [
        "with open(\"1.txt\", \"r\") as file:\n",
        "    data = file.read()"
      ]
    },
    {
      "cell_type": "code",
      "source": [
        "def matrixify(data):\n",
        "  matrix = []\n",
        "  for line in data.split(\"\\n\"):\n",
        "      row = list(line)\n",
        "      if row:\n",
        "          matrix.append(row)\n",
        "  return matrix"
      ],
      "metadata": {
        "id": "n9GEyo5fyEgD"
      },
      "execution_count": 117,
      "outputs": []
    },
    {
      "cell_type": "code",
      "source": [
        "data_matrix = matrixify(data)\n"
      ],
      "metadata": {
        "id": "bAbDhIzT0N-W"
      },
      "execution_count": 118,
      "outputs": []
    },
    {
      "cell_type": "code",
      "source": [
        "def count_xmas(matrix):\n",
        "\n",
        "\n",
        "    rows, cols = len(matrix), len(matrix[0])\n",
        "    count = 0\n",
        "    directions = [(0, 1), (0, -1), (1, 0), (-1, 0), (1, 1), (1, -1), (-1, 1), (-1, -1)]\n",
        "    target = \"xmas\"\n",
        "\n",
        "    for r in range(rows):\n",
        "        for c in range(cols):\n",
        "            for dr, dc in directions:\n",
        "                word_index = 0\n",
        "                for i in range(min(rows, cols)):\n",
        "                    nr, nc = r + i * dr, c + i * dc\n",
        "                    if 0 <= nr < rows and 0 <= nc < cols:\n",
        "                        if matrix[nr][nc].lower() == target[word_index]:\n",
        "                            word_index += 1\n",
        "                            if word_index == len(target):\n",
        "                                count += 1\n",
        "                                break\n",
        "                        else:\n",
        "                            break\n",
        "                    else:\n",
        "                        break\n",
        "\n",
        "    return count"
      ],
      "metadata": {
        "id": "VJpQrv9rzZLt"
      },
      "execution_count": 119,
      "outputs": []
    },
    {
      "cell_type": "code",
      "source": [
        "def find_x_mas(matrix):\n",
        "    rows, cols = len(matrix), len(matrix[0])\n",
        "    count = 0\n",
        "\n",
        "    for r in range(1, rows - 1):\n",
        "        for c in range(1, cols - 1):\n",
        "            if matrix[r][c] == 'A':\n",
        "                if (matrix[r - 1][c - 1] == 'M' and matrix[r + 1][c + 1] == 'S' and\n",
        "                        matrix[r - 1][c + 1] == 'S' and matrix[r + 1][c - 1] == 'M'):\n",
        "                    count += 1\n",
        "\n",
        "                elif (matrix[r - 1][c - 1] == 'M' and matrix[r + 1][c + 1] == 'S' and\n",
        "                      matrix[r - 1][c + 1] == 'M' and matrix[r + 1][c - 1] == 'S'):\n",
        "                    count += 1\n",
        "\n",
        "                elif (matrix[r - 1][c - 1] == 'S' and matrix[r + 1][c + 1] == 'M' and\n",
        "                      matrix[r - 1][c + 1] == 'S' and matrix[r + 1][c - 1] == 'M'):\n",
        "                    count += 1\n",
        "\n",
        "                elif (matrix[r - 1][c - 1] == 'S' and matrix[r + 1][c + 1] == 'M' and\n",
        "                      matrix[r - 1][c + 1] == 'M' and matrix[r + 1][c - 1] == 'S'):\n",
        "                    count += 1\n",
        "\n",
        "\n",
        "\n",
        "    return count"
      ],
      "metadata": {
        "id": "OjXSNeso19-l"
      },
      "execution_count": 120,
      "outputs": []
    },
    {
      "cell_type": "code",
      "source": [
        "print(\"part1:\")\n",
        "print(count_xmas(data_matrix))\n",
        "print(\"part2:\")\n",
        "print(find_x_mas(data_matrix))\n"
      ],
      "metadata": {
        "colab": {
          "base_uri": "https://localhost:8080/"
        },
        "id": "0BXvq70226s7",
        "outputId": "6ac76eea-4d85-4548-f523-56c3df3eb23f"
      },
      "execution_count": 121,
      "outputs": [
        {
          "output_type": "stream",
          "name": "stdout",
          "text": [
            "part1:\n",
            "2401\n",
            "part2:\n",
            "1822\n"
          ]
        }
      ]
    }
  ]
}