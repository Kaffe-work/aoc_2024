{
  "nbformat": 4,
  "nbformat_minor": 0,
  "metadata": {
    "colab": {
      "provenance": [],
      "authorship_tag": "ABX9TyORHUaexTUfXmEN+PyAaGKl",
      "include_colab_link": true
    },
    "kernelspec": {
      "name": "python3",
      "display_name": "Python 3"
    },
    "language_info": {
      "name": "python"
    }
  },
  "cells": [
    {
      "cell_type": "markdown",
      "metadata": {
        "id": "view-in-github",
        "colab_type": "text"
      },
      "source": [
        "<a href=\"https://colab.research.google.com/github/Kaffe-work/aoc_2024/blob/main/24d3.ipynb\" target=\"_parent\"><img src=\"https://colab.research.google.com/assets/colab-badge.svg\" alt=\"Open In Colab\"/></a>"
      ]
    },
    {
      "cell_type": "code",
      "source": [
        "import re"
      ],
      "metadata": {
        "id": "VpDvU9sppYq8"
      },
      "execution_count": 59,
      "outputs": []
    },
    {
      "cell_type": "code",
      "execution_count": 66,
      "metadata": {
        "id": "J6OaD0Umn33y"
      },
      "outputs": [],
      "source": [
        "inputList = []\n",
        "with open(\"1.txt\", \"r\") as data:\n",
        "    for t in data:\n",
        "        Line = t.strip()\n",
        "        inputList.append(Line)\n",
        "from collections import Counter, defaultdict\n"
      ]
    },
    {
      "cell_type": "code",
      "source": [
        "def mul_extract(inputList):\n",
        "  pattern = r\"mul\\((\\d+),(\\d+)\\)\"\n",
        "  results = []\n",
        "  for line in inputList:\n",
        "      matches = re.findall(pattern, line)\n",
        "      for match in matches:\n",
        "          results.append(f\"mul({match[0]},{match[1]})\")\n",
        "  return results\n",
        "\n",
        "\n",
        "def do_dont_mul_extract(inputList):\n",
        "\n",
        "    results = []\n",
        "    add_mul = True\n",
        "    for line in inputList:\n",
        "\n",
        "        i = 0\n",
        "        while i < len(line):\n",
        "            if line[i:i + 7] == \"don't()\":\n",
        "                add_mul = False\n",
        "                i += 7  # Skip\n",
        "\n",
        "            elif line[i:i + 4] == \"do()\":\n",
        "                add_mul = True\n",
        "                i += 4  # Skip\n",
        "\n",
        "            elif add_mul and line[i:i + 4] == \"mul(\":\n",
        "                match = re.search(r\"mul\\((\\d+),(\\d+)\\)\", line[i:])\n",
        "                if match:\n",
        "                    results.append(f\"mul({match.group(1)},{match.group(2)})\")\n",
        "                    i += match.end()\n",
        "\n",
        "                else:\n",
        "                    i += 1\n",
        "            else:\n",
        "                i += 1\n",
        "\n",
        "    return results\n",
        "\n",
        "def summer(clearlist):\n",
        "  total_sum = 0\n",
        "  for result in clearlist:\n",
        "    numbers = re.findall(r\"\\d+\", result)\n",
        "    if len(numbers) == 2:\n",
        "        x, y = map(int, numbers)\n",
        "        total_sum += x * y\n",
        "  return total_sum"
      ],
      "metadata": {
        "id": "5LTZFy62pVZ7"
      },
      "execution_count": 64,
      "outputs": []
    },
    {
      "cell_type": "markdown",
      "source": [],
      "metadata": {
        "id": "_Gp7pVN1qgsx"
      }
    },
    {
      "cell_type": "code",
      "source": [
        "\n",
        "clearlist2 =  do_dont_mul_extract(inputList)\n",
        "clearlist =  mul_extract(inputList)\n",
        "print(\"part 1 is\")\n",
        "print(summer(clearlist))\n",
        "print(\"part 2 is\")\n",
        "print(summer(clearlist2))\n"
      ],
      "metadata": {
        "colab": {
          "base_uri": "https://localhost:8080/"
        },
        "id": "ijv2a8fCp1th",
        "outputId": "80622a7b-d31a-46ea-9975-04c3152934ba"
      },
      "execution_count": 67,
      "outputs": [
        {
          "output_type": "stream",
          "name": "stdout",
          "text": [
            "part 1 is\n",
            "175700056\n",
            "part 2 is\n",
            "71668682\n"
          ]
        }
      ]
    }
  ]
}